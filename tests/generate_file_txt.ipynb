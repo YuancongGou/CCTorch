{
 "cells": [
  {
   "cell_type": "code",
   "execution_count": 1,
   "id": "dc5a7a01-7d5c-4e49-bc11-84ee8587c313",
   "metadata": {},
   "outputs": [
    {
     "name": "stdout",
     "output_type": "stream",
     "text": [
      "File names have been written to './data_am1_2022360_hourly.txt'.\n"
     ]
    }
   ],
   "source": [
    "import os\n",
    "\n",
    "def list_files_in_folder(folder_path, output_file):\n",
    "    \"\"\"\n",
    "    List all file names in the specified folder and write them to a text file.\n",
    "\n",
    "    :param folder_path: Path to the folder\n",
    "    :param output_file: Path to the output text file\n",
    "    \"\"\"\n",
    "    try:\n",
    "        # Check if the path exists\n",
    "        if not os.path.exists(folder_path):\n",
    "            print(f\"Error: The folder '{folder_path}' does not exist.\")\n",
    "            return\n",
    "\n",
    "        # List all files in the folder\n",
    "        file_names = sorted([file for file in os.listdir(folder_path) if os.path.isfile(os.path.join(folder_path, file))])\n",
    "\n",
    "        # Write the file names to the text file\n",
    "        with open(output_file, 'w') as f:\n",
    "            for file_name in file_names:\n",
    "                f.write(file_name + '\\n')\n",
    "\n",
    "        print(f\"File names have been written to '{output_file}'.\")\n",
    "\n",
    "    except Exception as e:\n",
    "        print(f\"An error occurred: {e}\")\n",
    "\n",
    "# Specify the folder path\n",
    "folder_path = '/home/gcl/RA/yuancong_gou/RA/yuancong_gou/test/cut_channels/2022-12-26/all_links'\n",
    "#folder_path = '/work/das02/MBARI_F8_STU_GL20m_OCP5m_FS200Hz_2024-09-05T211427Z/2024/2024.346'\n",
    "\n",
    "# Specify the output file path\n",
    "output_file = './data_am1_2022360_hourly.txt'\n",
    "\n",
    "# Process the folder and write file names\n",
    "list_files_in_folder(folder_path, output_file)\n"
   ]
  },
  {
   "cell_type": "code",
   "execution_count": 2,
   "id": "f1b98843-725d-4161-81f1-90422d5d4e51",
   "metadata": {},
   "outputs": [
    {
     "name": "stdout",
     "output_type": "stream",
     "text": [
      "File names from all folders have been written to './data_am1_2023004_2023020.txt'.\n"
     ]
    }
   ],
   "source": [
    "import os\n",
    "\n",
    "def list_files_in_folders(folder_paths, output_file):\n",
    "    \"\"\"\n",
    "    List all file names in the specified folders and write them to a text file.\n",
    "\n",
    "    :param folder_paths: List of paths to the folders\n",
    "    :param output_file: Path to the output text file\n",
    "    \"\"\"\n",
    "    try:\n",
    "        all_file_names = []\n",
    "\n",
    "        for folder_path in folder_paths:\n",
    "            # Check if the path exists\n",
    "            if not os.path.exists(folder_path):\n",
    "                print(f\"Error: The folder '{folder_path}' does not exist.\")\n",
    "                continue\n",
    "\n",
    "            # List all files in the folder\n",
    "            file_names = sorted([file for file in os.listdir(folder_path) if os.path.isfile(os.path.join(folder_path, file))])\n",
    "            all_file_names.extend(file_names)\n",
    "\n",
    "        # Write all file names to the text file\n",
    "        with open(output_file, 'w') as f:\n",
    "            for file_name in all_file_names:\n",
    "                f.write(file_name + '\\n')\n",
    "\n",
    "        print(f\"File names from all folders have been written to '{output_file}'.\")\n",
    "\n",
    "    except Exception as e:\n",
    "        print(f\"An error occurred: {e}\")\n",
    "\n",
    "# Specify the folder paths\n",
    "folder_paths = [\n",
    "    # '/ref/das-mbari_1/2022/2022.363',\n",
    "    # '/ref/das-mbari_1/2022/2022.364',\n",
    "    # '/ref/das-mbari_1/2022/2022.365',\n",
    "    # '/ref/das-mbari_1/2023/2023.001',\n",
    "    # '/ref/das-mbari_1/2023/2023.002',\n",
    "    # '/ref/das-mbari_1/2023/2023.003',\n",
    "    '/ref/das-mbari_1/2023/2023.004',\n",
    "    '/ref/das-mbari_1/2023/2023.005',\n",
    "    '/ref/das-mbari_1/2023/2023.006',\n",
    "    '/ref/das-mbari_1/2023/2023.007',\n",
    "    '/ref/das-mbari_1/2023/2023.008',\n",
    "    '/ref/das-mbari_1/2023/2023.009',\n",
    "    '/ref/das-mbari_1/2023/2023.010',\n",
    "    '/ref/das-mbari_1/2023/2023.011',\n",
    "    '/ref/das-mbari_1/2023/2023.012',\n",
    "    '/ref/das-mbari_1/2023/2023.013',\n",
    "    '/ref/das-mbari_1/2023/2023.014',\n",
    "    '/ref/das-mbari_1/2023/2023.015',\n",
    "    '/ref/das-mbari_1/2023/2023.016',\n",
    "    '/ref/das-mbari_1/2023/2023.017',\n",
    "    '/ref/das-mbari_1/2023/2023.018',\n",
    "    '/ref/das-mbari_1/2023/2023.019',\n",
    "    '/ref/das-mbari_1/2023/2023.020',\n",
    "    # '/ref/das-mbari_1/2023/2023.021',\n",
    "    # '/ref/das-mbari_1/2023/2023.022',\n",
    "    # '/ref/das-mbari_1/2023/2023.023',\n",
    "    # '/ref/das-mbari_1/2023/2023.024',\n",
    "    # '/ref/das-mbari_1/2023/2023.025',\n",
    "]\n",
    "\n",
    "# Specify the output file path\n",
    "output_file = './data_am1_2023004_2023020.txt'\n",
    "\n",
    "# Process the folders and write file names\n",
    "list_files_in_folders(folder_paths, output_file)\n"
   ]
  },
  {
   "cell_type": "code",
   "execution_count": null,
   "id": "9eac0b18-d037-40ee-8e6e-efd6854130bb",
   "metadata": {},
   "outputs": [],
   "source": []
  }
 ],
 "metadata": {
  "kernelspec": {
   "display_name": "Python 3 (ipykernel)",
   "language": "python",
   "name": "python3"
  },
  "language_info": {
   "codemirror_mode": {
    "name": "ipython",
    "version": 3
   },
   "file_extension": ".py",
   "mimetype": "text/x-python",
   "name": "python",
   "nbconvert_exporter": "python",
   "pygments_lexer": "ipython3",
   "version": "3.9.16"
  }
 },
 "nbformat": 4,
 "nbformat_minor": 5
}
